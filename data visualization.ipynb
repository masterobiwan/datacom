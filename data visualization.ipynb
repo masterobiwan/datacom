{
 "cells": [
  {
   "cell_type": "markdown",
   "metadata": {},
   "source": [
    "# Seattle is most dangerous between 12am and 1am, and most of the incidents are related to vehicles during this period"
   ]
  },
  {
   "cell_type": "markdown",
   "metadata": {},
   "source": [
    "## Global overview"
   ]
  },
  {
   "cell_type": "markdown",
   "metadata": {},
   "source": [
    "First we want to identify the time frame during the day when there is the higher level of incidents occurence."
   ]
  },
  {
   "cell_type": "markdown",
   "metadata": {
    "collapsed": false
   },
   "source": [
    "<img src=\"figure_1.png\">"
   ]
  },
  {
   "cell_type": "markdown",
   "metadata": {
    "collapsed": true
   },
   "source": [
    "<a href=\"plot1.py\">Source</a>"
   ]
  },
  {
   "cell_type": "markdown",
   "metadata": {},
   "source": [
    "From the figure above, we can see that the total number of incidents is at a high level between 12am and 1am (red bars on the plot). The maximum number of incidents per hour is reached between midnight and 1am."
   ]
  },
  {
   "cell_type": "markdown",
   "metadata": {},
   "source": [
    "## Top five incident types during high level period"
   ]
  },
  {
   "cell_type": "markdown",
   "metadata": {},
   "source": [
    "Now we want to analyse which are the 5 major types of incidents during the high level period."
   ]
  },
  {
   "cell_type": "markdown",
   "metadata": {},
   "source": [
    "<img src=\"figure_2.png\">"
   ]
  },
  {
   "cell_type": "markdown",
   "metadata": {},
   "source": [
    "<a href=\"plot2.py\">Source</a>"
   ]
  },
  {
   "cell_type": "markdown",
   "metadata": {},
   "source": [
    "From the figure above, we see that the top 5 incident types occuring between 12am and 1am are, in order of importance:\n",
    "<ol>\n",
    "  <li>CAR PROWL</li>\n",
    "  <li>OTHER PROPERTY</li>\n",
    "  <li>VEHICLE THEFT</li>\n",
    "  <li>BURGLARY</li>\n",
    "  <li>PROPERTY DAMAGE</li>\n",
    "</ol>\n",
    "\n",
    "We can notice that more than half of the incidents are related to vehicles (CAR PROWL and VEHICLE THEFT)"
   ]
  }
 ],
 "metadata": {
  "kernelspec": {
   "display_name": "Python 2",
   "language": "python",
   "name": "python2"
  },
  "language_info": {
   "codemirror_mode": {
    "name": "ipython",
    "version": 2
   },
   "file_extension": ".py",
   "mimetype": "text/x-python",
   "name": "python",
   "nbconvert_exporter": "python",
   "pygments_lexer": "ipython2",
   "version": "2.7.6"
  }
 },
 "nbformat": 4,
 "nbformat_minor": 0
}
